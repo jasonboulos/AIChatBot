{
 "cells": [
  {
   "cell_type": "code",
   "execution_count": 55,
   "id": "23da3c16-d70b-4cef-b563-9f92010821ec",
   "metadata": {},
   "outputs": [],
   "source": [
    "import os\n",
    "import openai\n",
    "import sys\n",
    "\n",
    "from dotenv import load_dotenv, find_dotenv\n",
    "_ = load_dotenv(find_dotenv()) \n",
    "\n",
    "openai.api_key = os.environ['OPENAI_API_KEY']"
   ]
  },
  {
   "cell_type": "code",
   "execution_count": 56,
   "id": "136d9f56-ccc1-483f-b514-5a82d2e09e56",
   "metadata": {},
   "outputs": [
    {
     "name": "stdout",
     "output_type": "stream",
     "text": [
      "CONTRAT DE LOCATION OU DE COLOCATION D'UN LOGEMENT LOUE MEUBLE CONTRAT DE LOCATION OU DE COLOCATION D'UN LOGEMENT LOUE MEUBLE\n",
      "Soumis au titre Ier bis de la loi du 6 juillet 1989 tendant à améliorer les rapports locatifs\n",
      "Le présent contrat est conclu entre les soussignés :\n",
      "Le bailleur\n",
      "Monsieur\n",
      " \n",
      "Stéphane RICANDA\n",
      " \n",
      "demeurant\n",
      " \n",
      "4591 ROUTE DE GRASSE 06140 TOURRETTES SUR LOUP\n",
      " \n",
      ",\n",
      "Non présent ce jour et représenté par l'Agence en vertu des pouvoirs qui lui sont conférés par le mandat de gestion n°\n",
      "136\n"
     ]
    },
    {
     "data": {
      "text/plain": [
       "{'source': 'C:/Users/HP/Desktop/UTBM/Alternance/bail_logement_loue_meuble_a_usage_de_residence_principale_bail_ricanda_boulos-66c59b5c96e54735730163e6.pdf',\n",
       " 'page': 1}"
      ]
     },
     "execution_count": 56,
     "metadata": {},
     "output_type": "execute_result"
    }
   ],
   "source": [
    "from langchain.document_loaders import PyPDFLoader\n",
    "\n",
    "loader = PyPDFLoader(\"C:/Users/HP/Desktop/UTBM/Alternance/bail_logement_loue_meuble_a_usage_de_residence_principale_bail_ricanda_boulos-66c59b5c96e54735730163e6.pdf\")\n",
    "\n",
    "pages = loader.load()\n",
    "\n",
    "len(pages)\n",
    "\n",
    "page = pages[1]\n",
    "print(page.page_content[:500])\n",
    "page.metadata"
   ]
  },
  {
   "cell_type": "markdown",
   "id": "f24e4b80",
   "metadata": {},
   "source": [
    "# Video insuffisance cardiaque sur youtube"
   ]
  },
  {
   "cell_type": "code",
   "execution_count": 57,
   "id": "bc082fca",
   "metadata": {},
   "outputs": [],
   "source": [
    "from langchain.document_loaders.generic import GenericLoader\n",
    "import whisper\n",
    "from langchain.document_loaders.blob_loaders.youtube_audio import YoutubeAudioLoader\n",
    "from langchain_community.document_loaders.parsers.audio import OpenAIWhisperParserLocal"
   ]
  },
  {
   "cell_type": "code",
   "execution_count": 58,
   "id": "50de754f",
   "metadata": {},
   "outputs": [
    {
     "name": "stderr",
     "output_type": "stream",
     "text": [
      "c:\\Users\\HP\\AppData\\Local\\Programs\\Python\\Python310\\lib\\site-packages\\whisper\\__init__.py:150: FutureWarning: You are using `torch.load` with `weights_only=False` (the current default value), which uses the default pickle module implicitly. It is possible to construct malicious pickle data which will execute arbitrary code during unpickling (See https://github.com/pytorch/pytorch/blob/main/SECURITY.md#untrusted-models for more details). In a future release, the default value for `weights_only` will be flipped to `True`. This limits the functions that could be executed during unpickling. Arbitrary objects will no longer be allowed to be loaded via this mode unless they are explicitly allowlisted by the user via `torch.serialization.add_safe_globals`. We recommend you start setting `weights_only=True` for any use case where you don't have full control of the loaded file. Please open an issue on GitHub for any issues related to this experimental feature.\n",
      "  checkpoint = torch.load(fp, map_location=device)\n"
     ]
    },
    {
     "name": "stdout",
     "output_type": "stream",
     "text": [
      "[youtube] Extracting URL: https://www.youtube.com/watch?v=v_CTlg32-tI&ab_channel=HopitauxUniversitairesdeGen%C3%A8ve\n",
      "[youtube] v_CTlg32-tI: Downloading webpage\n",
      "[youtube] v_CTlg32-tI: Downloading ios player API JSON\n",
      "[youtube] v_CTlg32-tI: Downloading mweb player API JSON\n",
      "[youtube] v_CTlg32-tI: Downloading m3u8 information\n",
      "[info] v_CTlg32-tI: Downloading 1 format(s): 140\n",
      "[download] videos\\Insuffisance cardiaque.m4a has already been downloaded\n",
      "[download] 100% of    1.02MiB\n",
      "[ExtractAudio] Not converting audio videos\\Insuffisance cardiaque.m4a; file is already in target format m4a\n",
      "[youtube] Extracting URL: https://www.youtube.com/watch?v=gqge5Ni-qq0&ab_channel=AlloDocteurs\n",
      "[youtube] gqge5Ni-qq0: Downloading webpage\n",
      "[youtube] gqge5Ni-qq0: Downloading ios player API JSON\n",
      "[youtube] gqge5Ni-qq0: Downloading mweb player API JSON\n",
      "[youtube] gqge5Ni-qq0: Downloading m3u8 information\n",
      "[info] gqge5Ni-qq0: Downloading 1 format(s): 140\n",
      "[download] Destination: videos\\Insuffisance cardiaque, une meilleure prise en charge grâce aux infirmiers - Le Magazine de la Santé.m4a\n",
      "[download] 100% of    3.34MiB in 00:00:04 at 737.61KiB/s \n",
      "[FixupM4a] Correcting container of \"videos\\Insuffisance cardiaque, une meilleure prise en charge grâce aux infirmiers - Le Magazine de la Santé.m4a\"\n",
      "[ExtractAudio] Not converting audio videos\\Insuffisance cardiaque, une meilleure prise en charge grâce aux infirmiers - Le Magazine de la Santé.m4a; file is already in target format m4a\n",
      "Transcribing audio file: videos\\Insuffisance cardiaque, une meilleure prise en charge grâce aux infirmiers - Le Magazine de la Santé.m4a\n"
     ]
    },
    {
     "name": "stderr",
     "output_type": "stream",
     "text": [
      "c:\\Users\\HP\\AppData\\Local\\Programs\\Python\\Python310\\lib\\site-packages\\whisper\\transcribe.py:126: UserWarning: FP16 is not supported on CPU; using FP32 instead\n",
      "  warnings.warn(\"FP16 is not supported on CPU; using FP32 instead\")\n"
     ]
    },
    {
     "name": "stdout",
     "output_type": "stream",
     "text": [
      "Transcription for videos\\Insuffisance cardiaque, une meilleure prise en charge grâce aux infirmiers - Le Magazine de la Santé.m4a:\n",
      " Merci, M.Mina. Bonjour, M.Venie, avec moi. Maïs de Cordeau est un firmier de pratique avancée. Elle est spécialisée en cardiologie et suie Gaston M.Mina depuis septembre dernier pour son insuffisance cardiaque. Comment ça va tu la dernière fois ? Ce sont des essoufflements au moins drépfort et une écografic qui ont révélé la maladie de Gaston. Lorsque vous apprends que vous êtes un suffisant cardiaque, vous êtes très inquiétés. Je vous ai sculpté du coup, les insuffisons cardiaques ne se guérit jamais. Et on m'a rassuré. On n'a pas été guérée la maladie, mais on va chercher à la stabiliser. Et c'est l'objectif de se suivre personnaliser. Sachez que la maladie ne s'aggrave pas. En tant qu'affirmière, Maïs a suivi une formation dédiée à l'insuffisance cardiaque. Ce qui lui permet de réaliser elle-même l'examen clinique de Gaston. Vous vous souvenez comment on fait pour regarder si elle le aime ? On appuie, vous savez. Et si il y a la trace du pouce, c'est qu'elle le aime. Donc là, c'est parfait. L'intérêt de l'infirmière en pratique avancée c'est de se positionner un peu comme un interlocuteur privilégier pour le patient. Et donc, nous, on a la possibilité de revoir les patients tous les 15 jours. Nous, voilà, on a vraiment ce soir-là de pouvoir répondre répiramment et très rapidement. C'est aussi l'occasion aujourd'hui de voir sa cardiologue. Il doit passer une écographie tous les deux mois. Alors, ce qui est important chez vous, monsieur, c'est comment le coeur se contracte. Vous voyez les parois du moteur cardiaque. Là, vous voyez, chez ce patient, c'est parois de se ressert pas. Si je faisais l'écographie sur moi, les deux parois du moteur se resseraient comme ceci. Là, elle reste à distance. Le coeur envoie moins de 100 facilement dans les différentes organes. Le coeur de Gaston a perdu 70% de sa force de contraction. Mais grâce à la mise en place du traitement et du suivi régulier, la cardiologue espère une amélioration. La monsieur a 38%, or il était à 30% en septembre. Vous avez pris 8% de contraction l'ardiaque. C'est une super nouvelle, monsieur Massimir. Je sens une évolution avant, je dis mettre après de marche, j'étais soufflé. Mais là, tu le manges, j'arrive à faire jusqu'à 500 mètres. Je ne suis pas de tout est soufflé. Une amélioration physique du également à la reprise du sport. Comme ces autres maladins suffisant cardiaques, Gaston a suivi ses cours de caratter au sein même de l'hôpital. Cette réadaptation cardiaque fait partie du parcours. Gaston bénéficie aussi des conseils d'une guetétitienne. Est-ce que vous avez introduit un peu de freemages ? Non, je ne pense pas plus. Je pense qu'on se fait plaisir, parce que sinon on se laisse au bout d'un moment. Pendant ce temps, l'infirmière fait le point avec la cardiologue pour le traitement de Gaston, chacune dans son rôle. L'an on avait introduit. En médicaments, la dernière fois, on a un hdg, je pense qu'on peut peut-être l'augmenter. Moi, je pense que c'est une bonne idée. Si c'est des majorations d'un traitement, l'infirmière de pratiques avancées peut le faire toute seule. En revanche, pour l'introduction d'un traitement, la suite de la prise en charge le parcours en général et des questions très médicales, le médecin doit être présent. C'est enfin le moment du bilan pour Gaston. Je vous continue à la réadaptation cardiac. Nous on va augmenter les médicaments, nous on se reverra en consultation dans une quinzaine de jours également. Moi, je ne souhaite que ça, c'est-à-dire que vous voir une fois dans le mois. Depuis la mise en place de ce nouveau parcours de soins en juillet dernier, une soixantaine de patients ont pu être suivi plus régulièrement pour leur insuffisance cardiac.\n",
      "Transcribing audio file: videos\\Insuffisance cardiaque.m4a\n",
      "Transcription for videos\\Insuffisance cardiaque.m4a:\n",
      " Le cœur est un muscle qui fonctionne comme une pompe qui propulse continuuellement le sang dans tous les organes du corps. On parle d'insuffisance cardiaque lorsque cette fonction de pompe est affaiblie. L'insuffisance cardiaque a deux effets principaux. Premièrement, une quantité insuffisante de sang est fournée à votre corps, ce qui peut causer une fatigue musculaire. Deuxièmement, cette diminution de la circulation sanguine entraîne par des mécanismes complexes, une accumulation de liquides dans le corps qui augmente le volume de sang qui circule. Ce liquide, attendant s'en suite à s'accumuler principalement au niveau des poumons, ce qui réduit l'absorption d'oxygène dans le sang. C'est la cause de l'essoufflement, de la tou ou de la respiration ciflante. Cette surcharge de liquides peut aussi provoquer un gonflement des chevilles et des jambes. La accumulation de liquides peut encore se produire dans votre foie et vos organes digestifs et réduire votre apétit. Enfin, tout ce liquide supplémentaire va augmenter votre poids. Vous pouvez alors être limité dans la moindre de vos activités, de voir consulter votre médecin ou même être admis à l'hôpital.\n"
     ]
    }
   ],
   "source": [
    "from langchain_community.document_loaders.blob_loaders.youtube_audio import YoutubeAudioLoader\n",
    "import whisper\n",
    "\n",
    "# Initialize Whisper Model\n",
    "model = whisper.load_model(\"base\")\n",
    "\n",
    "# Function to transcribe audio\n",
    "def transcribe_audio(file_path):\n",
    "    print(f\"Transcribing audio file: {file_path}\")\n",
    "    result = model.transcribe(str(file_path))\n",
    "    return result[\"text\"]\n",
    "\n",
    "# YouTube URL and save directory\n",
    "url = \"https://www.youtube.com/watch?v=v_CTlg32-tI&ab_channel=HopitauxUniversitairesdeGen%C3%A8ve\"\n",
    "url_1 = \"https://www.youtube.com/watch?v=gqge5Ni-qq0&ab_channel=AlloDocteurs\"\n",
    "save_dir = \"videos\"\n",
    "\n",
    "# Step 1: Use YoutubeAudioLoader to download and yield audio files\n",
    "audio_loader = YoutubeAudioLoader([url, url_1], save_dir)\n",
    "\n",
    "# Use yield_blobs() to get audio blobs\n",
    "for blob in audio_loader.yield_blobs():\n",
    "    # blob.path contains the path to the audio file\n",
    "    transcription = transcribe_audio(blob.path)\n",
    "    print(f\"Transcription for {blob.path}:\\n{transcription}\")\n"
   ]
  },
  {
   "cell_type": "code",
   "execution_count": null,
   "id": "46a43a46",
   "metadata": {},
   "outputs": [],
   "source": []
  }
 ],
 "metadata": {
  "kernelspec": {
   "display_name": "Python 3",
   "language": "python",
   "name": "python3"
  },
  "language_info": {
   "codemirror_mode": {
    "name": "ipython",
    "version": 3
   },
   "file_extension": ".py",
   "mimetype": "text/x-python",
   "name": "python",
   "nbconvert_exporter": "python",
   "pygments_lexer": "ipython3",
   "version": "3.10.11"
  }
 },
 "nbformat": 4,
 "nbformat_minor": 5
}
