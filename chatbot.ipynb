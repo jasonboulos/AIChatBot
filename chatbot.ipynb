{
 "cells": [
  {
   "cell_type": "code",
   "execution_count": 1,
   "id": "23da3c16-d70b-4cef-b563-9f92010821ec",
   "metadata": {},
   "outputs": [],
   "source": [
    "import os\n",
    "# import openai\n",
    "import sys\n",
    "\n",
    "from dotenv import load_dotenv, find_dotenv\n",
    "_ = load_dotenv(find_dotenv()) \n",
    "\n",
    "# openai.api_key = os.environ['OPENAI_API_KEY']"
   ]
  },
  {
   "cell_type": "code",
   "execution_count": 2,
   "id": "136d9f56-ccc1-483f-b514-5a82d2e09e56",
   "metadata": {},
   "outputs": [
    {
     "name": "stdout",
     "output_type": "stream",
     "text": [
      "CONTRAT DE LOCATION OU DE COLOCATION D'UN LOGEMENT LOUE MEUBLE CONTRAT DE LOCATION OU DE COLOCATION D'UN LOGEMENT LOUE MEUBLE\n",
      "Soumis au titre Ier bis de la loi du 6 juillet 1989 tendant à améliorer les rapports locatifs\n",
      "Le présent contrat est conclu entre les soussignés :\n",
      "Le bailleur\n",
      "Monsieur\n",
      " \n",
      "Stéphane RICANDA\n",
      " \n",
      "demeurant\n",
      " \n",
      "4591 ROUTE DE GRASSE 06140 TOURRETTES SUR LOUP\n",
      " \n",
      ",\n",
      "Non présent ce jour et représenté par l'Agence en vertu des pouvoirs qui lui sont conférés par le mandat de gestion n°\n",
      "136\n"
     ]
    },
    {
     "data": {
      "text/plain": [
       "{'source': 'C:/Users/HP/Desktop/UTBM/Alternance/bail_logement_loue_meuble_a_usage_de_residence_principale_bail_ricanda_boulos-66c59b5c96e54735730163e6.pdf',\n",
       " 'page': 1}"
      ]
     },
     "execution_count": 2,
     "metadata": {},
     "output_type": "execute_result"
    }
   ],
   "source": [
    "from langchain.document_loaders import PyPDFLoader\n",
    "\n",
    "loader = PyPDFLoader(\"C:/Users/HP/Desktop/UTBM/Alternance/bail_logement_loue_meuble_a_usage_de_residence_principale_bail_ricanda_boulos-66c59b5c96e54735730163e6.pdf\")\n",
    "\n",
    "pages = loader.load()\n",
    "\n",
    "len(pages)\n",
    "\n",
    "page = pages[1]\n",
    "print(page.page_content[:500])\n",
    "page.metadata"
   ]
  },
  {
   "cell_type": "markdown",
   "id": "f24e4b80",
   "metadata": {},
   "source": [
    "# Video insuffisance cardiaque sur youtube"
   ]
  },
  {
   "cell_type": "code",
   "execution_count": 3,
   "id": "bc082fca",
   "metadata": {},
   "outputs": [],
   "source": [
    "from langchain.document_loaders.generic import GenericLoader\n",
    "import whisper\n"
   ]
  },
  {
   "cell_type": "code",
   "execution_count": 4,
   "id": "50de754f",
   "metadata": {},
   "outputs": [
    {
     "name": "stderr",
     "output_type": "stream",
     "text": [
      "C:\\Users\\HP\\Desktop\\UTBM\\Alternance\\Sem1\\Projet_tutore\\AIChatBot\\transformers_env\\lib\\site-packages\\whisper\\__init__.py:150: FutureWarning: You are using `torch.load` with `weights_only=False` (the current default value), which uses the default pickle module implicitly. It is possible to construct malicious pickle data which will execute arbitrary code during unpickling (See https://github.com/pytorch/pytorch/blob/main/SECURITY.md#untrusted-models for more details). In a future release, the default value for `weights_only` will be flipped to `True`. This limits the functions that could be executed during unpickling. Arbitrary objects will no longer be allowed to be loaded via this mode unless they are explicitly allowlisted by the user via `torch.serialization.add_safe_globals`. We recommend you start setting `weights_only=True` for any use case where you don't have full control of the loaded file. Please open an issue on GitHub for any issues related to this experimental feature.\n",
      "  checkpoint = torch.load(fp, map_location=device)\n"
     ]
    },
    {
     "name": "stdout",
     "output_type": "stream",
     "text": [
      "[youtube] Extracting URL: https://www.youtube.com/watch?v=v_CTlg32-tI&ab_channel=HopitauxUniversitairesdeGen%C3%A8ve\n",
      "[youtube] v_CTlg32-tI: Downloading webpage\n",
      "[youtube] v_CTlg32-tI: Downloading ios player API JSON\n",
      "[youtube] v_CTlg32-tI: Downloading mweb player API JSON\n",
      "[youtube] v_CTlg32-tI: Downloading m3u8 information\n",
      "[info] v_CTlg32-tI: Downloading 1 format(s): 140\n",
      "[download] videos\\Insuffisance cardiaque.m4a has already been downloaded\n",
      "[download] 100% of    1.02MiB\n",
      "[ExtractAudio] Not converting audio videos\\Insuffisance cardiaque.m4a; file is already in target format m4a\n",
      "[youtube] Extracting URL: https://www.youtube.com/watch?v=gqge5Ni-qq0&ab_channel=AlloDocteurs\n",
      "[youtube] gqge5Ni-qq0: Downloading webpage\n",
      "[youtube] gqge5Ni-qq0: Downloading ios player API JSON\n",
      "[youtube] gqge5Ni-qq0: Downloading mweb player API JSON\n",
      "[youtube] gqge5Ni-qq0: Downloading m3u8 information\n",
      "[info] gqge5Ni-qq0: Downloading 1 format(s): 140\n",
      "[download] videos\\Insuffisance cardiaque, une meilleure prise en charge grâce aux infirmiers - Le Magazine de la Santé.m4a has already been downloaded\n",
      "[download] 100% of    3.34MiB\n",
      "[ExtractAudio] Not converting audio videos\\Insuffisance cardiaque, une meilleure prise en charge grâce aux infirmiers - Le Magazine de la Santé.m4a; file is already in target format m4a\n",
      "Transcribing audio file: videos\\Insuffisance cardiaque, une meilleure prise en charge grâce aux infirmiers - Le Magazine de la Santé.m4a\n"
     ]
    },
    {
     "name": "stderr",
     "output_type": "stream",
     "text": [
      "C:\\Users\\HP\\Desktop\\UTBM\\Alternance\\Sem1\\Projet_tutore\\AIChatBot\\transformers_env\\lib\\site-packages\\whisper\\transcribe.py:132: UserWarning: FP16 is not supported on CPU; using FP32 instead\n",
      "  warnings.warn(\"FP16 is not supported on CPU; using FP32 instead\")\n"
     ]
    },
    {
     "name": "stdout",
     "output_type": "stream",
     "text": [
      "Transcription for videos\\Insuffisance cardiaque, une meilleure prise en charge grâce aux infirmiers - Le Magazine de la Santé.m4a:\n",
      " Merci, M.Mina. Bonjour, M.Venie, avec moi. Maïs de Cordeau est un firmier de pratique avancée. Elle est spécialisée en cardiologie et suie Gaston M.Mina depuis septembre dernier pour son insuffisance cardiaque. Comment ça va tu la dernière fois ? Ce sont des essoufflements au moins drépfort et une écografic qui ont révélé la maladie de Gaston. Lorsque vous apprends que vous êtes un suffisant cardiaque, vous êtes très inquiétés. Je vous ai sculpté du coup, les insuffisons cardiaques ne se guérit jamais. Et on m'a rassuré. On n'a pas été guérée la maladie, mais on va chercher à la stabiliser. Et c'est l'objectif de se suivre personnaliser. Sachez que la maladie ne s'aggrave pas. En tant qu'affirmière, Maïs a suivi une formation dédiée à l'insuffisance cardiaque. Ce qui lui permet de réaliser elle-même l'examen clinique de Gaston. Vous vous souvenez comment on fait pour regarder si elle le aime ? On appuie, vous savez. Et si il y a la trace du pouce, c'est qu'elle le aime. Donc là, c'est parfait. L'intérêt de l'infirmière en pratique avancée c'est de se positionner un peu comme un interlocuteur privilégier pour le patient. Et donc, nous, on a la possibilité de revoir les patients tous les 15 jours. Nous, voilà, on a vraiment ce soir-là de pouvoir répondre répiramment et très rapidement. C'est aussi l'occasion aujourd'hui de voir sa cardiologue. Il doit passer une écographie tous les deux mois. Alors, ce qui est important chez vous, monsieur, c'est comment le coeur se contracte. Vous voyez les parois du moteur cardiaque. Là, vous voyez, chez ce patient, c'est parois de se ressert pas. Si je faisais l'écographie sur moi, les deux parois du moteur se resseraient comme ceci. Là, elle reste à distance. Le coeur envoie moins de 100 facilement dans les différentes organes. Le coeur de Gaston a perdu 70% de sa force de contraction. Mais grâce à la mise en place du traitement et du suivi régulier, la cardiologue espère une amélioration. La monsieur a 38%, or il était à 30% en septembre. Vous avez pris 8% de contraction l'ardiaque. C'est une super nouvelle, monsieur Massimir. Je sens une évolution avant, je dis mettre après de marche, j'étais soufflé. Mais là, tu le manges, j'arrive à faire jusqu'à 500 mètres. Je ne suis pas de tout est soufflé. Une amélioration physique du également à la reprise du sport. Comme ces autres maladins suffisant cardiaques, Gaston a suivi ses cours de caratter au sein même de l'hôpital. Cette réadaptation cardiaque fait partie du parcours. Gaston bénéficie aussi des conseils d'une guetétitienne. Est-ce que vous avez introduit un peu de freemages ? Non, je ne pense pas plus. Je pense qu'on se fait plaisir, parce que sinon on se laisse au bout d'un moment. Pendant ce temps, l'infirmière fait le point avec la cardiologue pour le traitement de Gaston, chacune dans son rôle. L'an on avait introduit. En médicaments, la dernière fois, on a un hdg, je pense qu'on peut peut-être l'augmenter. Moi, je pense que c'est une bonne idée. Si c'est des majorations d'un traitement, l'infirmière de pratiques avancées peut le faire toute seule. En revanche, pour l'introduction d'un traitement, la suite de la prise en charge le parcours en général et des questions très médicales, le médecin doit être présent. C'est enfin le moment du bilan pour Gaston. Je vous continue à la réadaptation cardiac. Nous on va augmenter les médicaments, nous on se reverra en consultation dans une quinzaine de jours également. Moi, je ne souhaite que ça, c'est-à-dire que vous voir une fois dans le mois. Depuis la mise en place de ce nouveau parcours de soins en juillet dernier, une soixantaine de patients ont pu être suivi plus régulièrement pour leur insuffisance cardiac.\n",
      "Transcribing audio file: videos\\Insuffisance cardiaque.m4a\n",
      "Transcription for videos\\Insuffisance cardiaque.m4a:\n",
      " Le cœur est un muscle qui fonctionne comme une pompe qui propulse continuuellement le sang dans tous les organes du corps. On parle d'insuffisance cardiaque lorsque cette fonction de pompe est affaiblie. L'insuffisance cardiaque a deux effets principaux. Premièrement, une quantité insuffisante de sang est fournée à votre corps, ce qui peut causer une fatigue musculaire. Deuxièmement, cette diminution de la circulation sanguine entraîne par des mécanismes complexes, une accumulation de liquides dans le corps qui augmente le volume de sang qui circule. Ce liquide, attendant s'en suite à s'accumuler principalement au niveau des poumons, ce qui réduit l'absorption d'oxygène dans le sang. C'est la cause de l'essoufflement, de la tou ou de la respiration ciflante. Cette surcharge de liquides peut aussi provoquer un gonflement des chevilles et des jambes. La accumulation de liquides peut encore se produire dans votre foie et vos organes digestifs et réduire votre apétit. Enfin, tout ce liquide supplémentaire va augmenter votre poids. Vous pouvez alors être limité dans la moindre de vos activités, de voir consulter votre médecin ou même être admis à l'hôpital.\n"
     ]
    }
   ],
   "source": [
    "from langchain_community.document_loaders.blob_loaders.youtube_audio import YoutubeAudioLoader\n",
    "import whisper\n",
    "\n",
    "# Initialize Whisper Model\n",
    "model = whisper.load_model(\"base\")\n",
    "\n",
    "# Function to transcribe audio\n",
    "def transcribe_audio(audio_file_path):\n",
    "    print(f\"Transcribing audio file: {audio_file_path}\")\n",
    "    result = model.transcribe(str(audio_file_path))\n",
    "    return result[\"text\"]\n",
    "\n",
    "# YouTube URL and save directory\n",
    "url = \"https://www.youtube.com/watch?v=v_CTlg32-tI&ab_channel=HopitauxUniversitairesdeGen%C3%A8ve\"\n",
    "url_1 = \"https://www.youtube.com/watch?v=gqge5Ni-qq0&ab_channel=AlloDocteurs\"\n",
    "save_dir = \"videos\"\n",
    "\n",
    "# Step 1: Use YoutubeAudioLoader to download and yield audio files\n",
    "audio_loader = YoutubeAudioLoader([url, url_1], save_dir)\n",
    "\n",
    "# Use yield_blobs() to get audio blobs\n",
    "for blob in audio_loader.yield_blobs():\n",
    "    # blob.path contains the path to the audio file\n",
    "    transcription = transcribe_audio(blob.path)\n",
    "    print(f\"Transcription for {blob.path}:\\n{transcription}\")\n"
   ]
  },
  {
   "cell_type": "markdown",
   "id": "28ddbb96",
   "metadata": {},
   "source": [
    "## Data from URL"
   ]
  },
  {
   "cell_type": "code",
   "execution_count": 5,
   "id": "46a43a46",
   "metadata": {},
   "outputs": [
    {
     "name": "stderr",
     "output_type": "stream",
     "text": [
      "USER_AGENT environment variable not set, consider setting it to identify your requests.\n"
     ]
    },
    {
     "name": "stdout",
     "output_type": "stream",
     "text": [
      "\n",
      "\n",
      "\n",
      "\n",
      "Artificial intelligence - Wikipedia\n",
      "\n",
      "\n",
      "\n",
      "\n",
      "\n",
      "\n",
      "\n",
      "\n",
      "\n",
      "\n",
      "\n",
      "\n",
      "\n",
      "\n",
      "\n",
      "\n",
      "\n",
      "\n",
      "\n",
      "\n",
      "\n",
      "\n",
      "\n",
      "\n",
      "\n",
      "\n",
      "Jump to content\n",
      "\n",
      "\n",
      "\n",
      "\n",
      "\n",
      "\n",
      "\n",
      "Main menu\n",
      "\n",
      "\n",
      "\n",
      "\n",
      "\n",
      "Main menu\n",
      "move to sidebar\n",
      "hide\n",
      "\n",
      "\n",
      "\n",
      "\t\tNavigation\n",
      "\t\n",
      "\n",
      "\n",
      "Main pageContentsCurrent eventsRandom articleAbout WikipediaContact us\n",
      "\n",
      "\n",
      "\n",
      "\n",
      "\n",
      "\t\tContribute\n",
      "\t\n",
      "\n",
      "\n",
      "HelpLearn to editCommunity portalRecent changesUpload file\n",
      "\n",
      "\n",
      "\n",
      "\n",
      "\n",
      "\n",
      "\n",
      "\n",
      "\n",
      "\n",
      "\n",
      "\n",
      "\n",
      "\n",
      "\n",
      "\n",
      "\n",
      "\n",
      "\n",
      "Search\n",
      "\n",
      "\n",
      "\n",
      "\n",
      "\n",
      "\n",
      "\n",
      "\n",
      "\n",
      "\n",
      "\n",
      "Search\n",
      "\n",
      "\n",
      "\n",
      "\n",
      "\n",
      "\n",
      "\n",
      "\n",
      "\n",
      "\n",
      "\n",
      "\n",
      "\n",
      "\n",
      "\n",
      "\n",
      "\n",
      "\n",
      "\n",
      "\n",
      "\n",
      "\n",
      "Appearance\n",
      "\n",
      "\n",
      "\n",
      "\n",
      "\n",
      "\n",
      "\n",
      "\n",
      "\n",
      "\n",
      "\n",
      "\n",
      "\n",
      "\n",
      "\n",
      "\n",
      "Donate\n",
      "\n",
      "Create account\n",
      "\n",
      "Log in\n",
      "\n",
      "\n",
      "\n",
      "\n",
      "\n",
      "\n",
      "\n",
      "\n",
      "Personal tools\n",
      "\n",
      "\n",
      "\n",
      "\n",
      "\n",
      "Donate Create account Log in\n",
      "\n",
      "\n",
      "\n",
      "\n",
      "\n",
      "\t\tPages\n"
     ]
    }
   ],
   "source": [
    "from langchain.document_loaders import WebBaseLoader\n",
    "import os\n",
    "\n",
    "os.environ[\"USER_AGENT\"] = \"Mozilla/5.0 (Windows NT 10.0; Win64; x64) AppleWebKit/537.36 (KHTML, like Gecko) Chrome/117.0.5938.62 Safari/537.36\"\n",
    "\n",
    "loader = WebBaseLoader(\"https://en.wikipedia.org/wiki/Artificial_intelligence\")\n",
    "\n",
    "pages = loader.load()\n",
    "\n",
    "print(pages[0].page_content[:500])\n",
    "\n",
    "##TODO: Fix data format \n"
   ]
  },
  {
   "cell_type": "markdown",
   "id": "45d4a9c8",
   "metadata": {},
   "source": [
    "# Export Data from Notion\n",
    "\n",
    "TODO: How to export data from notion databases to notebook"
   ]
  },
  {
   "cell_type": "code",
   "execution_count": 6,
   "id": "9f375c7a",
   "metadata": {},
   "outputs": [],
   "source": [
    "from langchain.text_splitter import RecursiveCharacterTextSplitter, CharacterTextSplitter"
   ]
  },
  {
   "cell_type": "code",
   "execution_count": 7,
   "id": "a1402161",
   "metadata": {},
   "outputs": [
    {
     "data": {
      "text/plain": [
       "['abcdefghijklmnopqrstuvwxyz', 'wxyzabcedfg']"
      ]
     },
     "execution_count": 7,
     "metadata": {},
     "output_type": "execute_result"
    }
   ],
   "source": [
    "chunk_size = 26\n",
    "chunk_overlap = 4\n",
    "\n",
    "r_splitter = RecursiveCharacterTextSplitter(chunk_size = chunk_size, chunk_overlap = chunk_overlap)\n",
    "c_splitter = CharacterTextSplitter(chunk_size = chunk_size, chunk_overlap = chunk_overlap)\n",
    "\n",
    "text_1 = 'abcdefghijklmnopqrstuvwxyz'\n",
    "\n",
    "r_splitter.split_text(text_1)\n",
    "\n",
    "text_2 = 'abcdefghijklmnopqrstuvwxyzabcedfg'\n",
    "\n",
    "r_splitter.split_text(text_2)\n"
   ]
  },
  {
   "cell_type": "code",
   "execution_count": 8,
   "id": "0bd351ce",
   "metadata": {},
   "outputs": [
    {
     "data": {
      "text/plain": [
       "['a b c d e f g h i j k l m', 'l m n o p q r s t u v w x', 'w x y z']"
      ]
     },
     "execution_count": 8,
     "metadata": {},
     "output_type": "execute_result"
    }
   ],
   "source": [
    "text_3 = \"a b c d e f g h i j k l m n o p q r s t u v w x y z\"\n",
    "\n",
    "r_splitter.split_text(text_3)\n"
   ]
  },
  {
   "cell_type": "code",
   "execution_count": 9,
   "id": "957b1323",
   "metadata": {},
   "outputs": [
    {
     "data": {
      "text/plain": [
       "['a b c d e f g h i j k l m n o p q r s t u v w x y z']"
      ]
     },
     "execution_count": 9,
     "metadata": {},
     "output_type": "execute_result"
    }
   ],
   "source": [
    "c_splitter.split_text(text_3)"
   ]
  },
  {
   "cell_type": "markdown",
   "id": "860a6ed5",
   "metadata": {},
   "source": [
    "# Vectors embedding"
   ]
  },
  {
   "cell_type": "code",
   "execution_count": 10,
   "id": "0938ca14",
   "metadata": {},
   "outputs": [],
   "source": [
    "# from sentence_transformers import SentenceTransformer\n",
    "# embeddingModel = SentenceTransformer('all-MiniLM-L6-v2')\n",
    "\n",
    "# sentence1 = \"I like dogs\"\n",
    "# sentence2 = \"I like canines\"\n",
    "# sentence3 = \"The weather is ugly outside\"\n",
    "\n",
    "# embedding1 = embeddingModel.encode(sentence1)\n",
    "# embedding2 = embeddingModel.encode(sentence2)\n",
    "# embedding3 = embeddingModel.encode(sentence3)\n",
    "\n",
    "# import numpy as np\n",
    "# similarity1_2 = np.dot(embedding1, embedding2) / (np.linalg.norm(embedding1) * np.linalg.norm(embedding2))\n",
    "# similarity1_3 = np.dot(embedding1, embedding3) / (np.linalg.norm(embedding1) * np.linalg.norm(embedding3))\n",
    "# similarity2_3 = np.dot(embedding2, embedding3) / (np.linalg.norm(embedding2) * np.linalg.norm(embedding3))\n",
    "\n",
    "# print(f\"Similarity between '{sentence1}' and '{sentence2}': {similarity1_2}\")\n",
    "# print(f\"Similarity between '{sentence1}' and '{sentence3}': {similarity1_3}\")\n",
    "# print(f\"Similarity between '{sentence2}' and '{sentence3}': {similarity2_3}\")\n"
   ]
  },
  {
   "cell_type": "markdown",
   "id": "e9f283b5",
   "metadata": {},
   "source": [
    "# Creating splits(chunks) from pdf data"
   ]
  },
  {
   "cell_type": "code",
   "execution_count": 11,
   "id": "3a28b707",
   "metadata": {},
   "outputs": [],
   "source": [
    "from langchain.document_loaders import PyPDFLoader\n",
    "from langchain.text_splitter import RecursiveCharacterTextSplitter\n"
   ]
  },
  {
   "cell_type": "code",
   "execution_count": 12,
   "id": "8a4c0292",
   "metadata": {},
   "outputs": [
    {
     "name": "stdout",
     "output_type": "stream",
     "text": [
      "89\n",
      "{'source': 'docs/pdfData/adhantibe.pdf', 'page': 0}\n"
     ]
    }
   ],
   "source": [
    "loaders = [\n",
    "    PyPDFLoader(\"docs/pdfData/adhantibe.pdf\"),\n",
    "    PyPDFLoader(\"docs/pdfData/adhantibe.pdf\"),  # Duplicate\n",
    "    PyPDFLoader(\"docs/pdfData/attestationcaf.pdf\"),\n",
    "    PyPDFLoader(\"docs/pdfData/SecondeLogment.pdf\")\n",
    "]\n",
    "\n",
    "docs = []\n",
    "for loader in loaders:\n",
    "    docs.extend(loader.load())\n",
    "print(len(docs))\n",
    "print(docs[0].metadata)\n"
   ]
  },
  {
   "cell_type": "code",
   "execution_count": 13,
   "id": "9f74a6a0",
   "metadata": {},
   "outputs": [],
   "source": [
    "text_splitter = RecursiveCharacterTextSplitter(\n",
    "    chunk_size=150,\n",
    "    chunk_overlap=30\n",
    ")\n",
    "splits = text_splitter.split_documents(docs)\n"
   ]
  },
  {
   "cell_type": "code",
   "execution_count": 14,
   "id": "c7313525",
   "metadata": {},
   "outputs": [
    {
     "name": "stdout",
     "output_type": "stream",
     "text": [
      "split 0\n",
      "\n",
      "page_content='M. Jason Boulos\n",
      "7 BOULEVARD DE LA PINEDE \n",
      "N° App: 06 00 400 50 469\n",
      "Résidence:  \n",
      "Cplt adresse:\n",
      "06160 JUAN LES PINS' metadata={'source': 'docs/pdfData/adhantibe.pdf', 'page': 0}\n",
      "split 1\n",
      "\n",
      "page_content='06160 JUAN LES PINS\n",
      "Votre numéro d’adhésion : ADHE-20240729-7294\n",
      "Nous contacter : etudiant@adh-assurances.fr' metadata={'source': 'docs/pdfData/adhantibe.pdf', 'page': 0}\n"
     ]
    }
   ],
   "source": [
    "len(splits)\n",
    "print(\"split 0\\n\")\n",
    "print(splits[0])\n",
    "print(\"split 1\\n\")\n",
    "print(splits[1])"
   ]
  },
  {
   "cell_type": "markdown",
   "id": "3bb0a7dc",
   "metadata": {},
   "source": [
    "# Vector Store"
   ]
  },
  {
   "cell_type": "code",
   "execution_count": 15,
   "id": "f72bfe03",
   "metadata": {},
   "outputs": [],
   "source": [
    "from langchain.vectorstores import Chroma"
   ]
  },
  {
   "cell_type": "code",
   "execution_count": 16,
   "id": "771f9e24",
   "metadata": {},
   "outputs": [],
   "source": [
    "!rmdir /s /q chroma_db\n"
   ]
  },
  {
   "cell_type": "code",
   "execution_count": 17,
   "id": "110f437d",
   "metadata": {},
   "outputs": [
    {
     "name": "stderr",
     "output_type": "stream",
     "text": [
      "C:\\Users\\HP\\AppData\\Local\\Temp\\ipykernel_23124\\3962963077.py:5: LangChainDeprecationWarning: The class `HuggingFaceEmbeddings` was deprecated in LangChain 0.2.2 and will be removed in 1.0. An updated version of the class exists in the :class:`~langchain-huggingface package and should be used instead. To use it run `pip install -U :class:`~langchain-huggingface` and import as `from :class:`~langchain_huggingface import HuggingFaceEmbeddings``.\n",
      "  embeddingModel = HuggingFaceEmbeddings(model_name=\"all-MiniLM-L6-v2\")\n"
     ]
    }
   ],
   "source": [
    "from langchain.embeddings import HuggingFaceEmbeddings\n",
    "from langchain.vectorstores import Chroma\n",
    "\n",
    "# Wrap the SentenceTransformer model\n",
    "embeddingModel = HuggingFaceEmbeddings(model_name=\"all-MiniLM-L6-v2\")\n",
    "\n",
    "# Use Chroma to store the vector database\n",
    "persist_directory = \"./chroma_db\"\n",
    "vectorDB = Chroma.from_documents(documents=splits, embedding=embeddingModel, persist_directory=persist_directory)\n"
   ]
  },
  {
   "cell_type": "code",
   "execution_count": 18,
   "id": "eb3e0573",
   "metadata": {},
   "outputs": [
    {
     "name": "stdout",
     "output_type": "stream",
     "text": [
      "1808\n"
     ]
    }
   ],
   "source": [
    "print(vectorDB._collection.count())"
   ]
  },
  {
   "cell_type": "code",
   "execution_count": 19,
   "id": "afea6c5e",
   "metadata": {},
   "outputs": [
    {
     "name": "stdout",
     "output_type": "stream",
     "text": [
      "{'page': 9, 'source': 'docs/pdfData/SecondeLogment.pdf'}\n",
      "M BOULOS Joe\n",
      "joeboulos8799@gmail.com\n",
      "{'page': 9, 'source': 'docs/pdfData/SecondeLogment.pdf'}\n",
      "communications par lettre recommandée électronique.\n",
      "Nom du titulaire\n",
      "Adresse mail\n",
      "M BOULOS Jason\n",
      "jasonboulos87@gmail.com\n",
      "M BOULOS Joe\n",
      "{'page': 0, 'source': 'docs/pdfData/attestationcaf.pdf'}\n",
      "EmplacementréservéàlaCaf\n",
      "MonsieurJASONBOULOSBATIMENTARESIDENCELACLAIRIERE7BOULEVARDDELAPINEDEJUANLESPINS06160ANTIBES\n",
      "061\n",
      "Le09/11/2024\n"
     ]
    }
   ],
   "source": [
    "question = \"joeboulos8799@gmail.com \"\n",
    "\n",
    "docs = vectorDB.similarity_search(question, k = 3)\n",
    "i = 0;\n",
    "for doc in docs:\n",
    "    print(doc.metadata)\n",
    "    print(docs[i].page_content)\n",
    "    i = i +1\n",
    "    \n"
   ]
  },
  {
   "cell_type": "code",
   "execution_count": null,
   "id": "eaeaede8-ea35-44fb-a945-bf0c18a51a0d",
   "metadata": {},
   "outputs": [],
   "source": []
  },
  {
   "cell_type": "code",
   "execution_count": null,
   "id": "52a56086-0311-40c5-8683-719eae9cb404",
   "metadata": {},
   "outputs": [],
   "source": []
  },
  {
   "cell_type": "code",
   "execution_count": null,
   "id": "9aa92a56-2bd2-4016-ade7-3fcc689b1255",
   "metadata": {},
   "outputs": [],
   "source": []
  },
  {
   "cell_type": "code",
   "execution_count": null,
   "id": "7c802f8d-0749-44cd-8407-4e5f98945e50",
   "metadata": {},
   "outputs": [],
   "source": []
  },
  {
   "cell_type": "code",
   "execution_count": null,
   "id": "518c2fa8-d8be-47b0-a2ba-b6285d6c91f5",
   "metadata": {},
   "outputs": [],
   "source": []
  },
  {
   "cell_type": "code",
   "execution_count": null,
   "id": "19bb8fe4-fa55-42e7-a29a-75333fd5897e",
   "metadata": {},
   "outputs": [],
   "source": []
  },
  {
   "cell_type": "code",
   "execution_count": null,
   "id": "6b02ef2d-fce3-417d-a69f-e461ad2e2a0c",
   "metadata": {},
   "outputs": [],
   "source": []
  },
  {
   "cell_type": "code",
   "execution_count": null,
   "id": "444f5271-db3d-442c-a471-f734db6668b1",
   "metadata": {},
   "outputs": [],
   "source": []
  },
  {
   "cell_type": "code",
   "execution_count": null,
   "id": "57094427-9e97-44cc-8728-bf9fe9d3aaed",
   "metadata": {},
   "outputs": [],
   "source": []
  },
  {
   "cell_type": "code",
   "execution_count": null,
   "id": "9f6469cf-deb6-4003-a092-3a4cb917b23f",
   "metadata": {},
   "outputs": [],
   "source": []
  },
  {
   "cell_type": "code",
   "execution_count": null,
   "id": "0e4f2658-eef3-42eb-9cb1-d806980387cc",
   "metadata": {},
   "outputs": [],
   "source": []
  },
  {
   "cell_type": "code",
   "execution_count": null,
   "id": "ec9ff5fc-6f96-4761-b07d-de893f2c4a95",
   "metadata": {},
   "outputs": [],
   "source": []
  },
  {
   "cell_type": "code",
   "execution_count": null,
   "id": "35239141-9f0a-4989-84d7-c40415f74ff8",
   "metadata": {},
   "outputs": [],
   "source": []
  },
  {
   "cell_type": "code",
   "execution_count": null,
   "id": "6f8f1a75-0db7-411b-8873-98afca930682",
   "metadata": {},
   "outputs": [],
   "source": []
  },
  {
   "cell_type": "code",
   "execution_count": null,
   "id": "da6ce833-6454-453f-a89d-d1bdf9ade24a",
   "metadata": {},
   "outputs": [],
   "source": []
  },
  {
   "cell_type": "code",
   "execution_count": null,
   "id": "6d30f593-9f10-4cf6-b43b-f5d3a614ead2",
   "metadata": {},
   "outputs": [],
   "source": []
  }
 ],
 "metadata": {
  "kernelspec": {
   "display_name": "Python (transformer)",
   "language": "python",
   "name": "transformer"
  },
  "language_info": {
   "codemirror_mode": {
    "name": "ipython",
    "version": 3
   },
   "file_extension": ".py",
   "mimetype": "text/x-python",
   "name": "python",
   "nbconvert_exporter": "python",
   "pygments_lexer": "ipython3",
   "version": "3.10.11"
  }
 },
 "nbformat": 4,
 "nbformat_minor": 5
}
